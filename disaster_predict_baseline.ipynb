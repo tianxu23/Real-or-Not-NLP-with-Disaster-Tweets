{
 "cells": [
  {
   "cell_type": "markdown",
   "metadata": {},
   "source": [
    "# NLP with disaster tweets"
   ]
  },
  {
   "cell_type": "markdown",
   "metadata": {},
   "source": [
    "Tiansheng Xu"
   ]
  },
  {
   "cell_type": "markdown",
   "metadata": {},
   "source": [
    "# 1. Data ingestion"
   ]
  },
  {
   "cell_type": "code",
   "execution_count": 1,
   "metadata": {},
   "outputs": [],
   "source": [
    "import pandas as pd\n",
    "import numpy as np\n",
    "import warnings\n",
    "warnings.filterwarnings('ignore')\n",
    "pd.set_option('display.max_colwidth',100)"
   ]
  },
  {
   "cell_type": "code",
   "execution_count": 2,
   "metadata": {},
   "outputs": [
    {
     "name": "stdout",
     "output_type": "stream",
     "text": [
      "Wall time: 107 ms\n"
     ]
    }
   ],
   "source": [
    "%time df = pd.read_csv('train.csv')"
   ]
  },
  {
   "cell_type": "code",
   "execution_count": 3,
   "metadata": {},
   "outputs": [
    {
     "data": {
      "text/plain": [
       "id           int64\n",
       "keyword     object\n",
       "location    object\n",
       "text        object\n",
       "target       int64\n",
       "dtype: object"
      ]
     },
     "execution_count": 3,
     "metadata": {},
     "output_type": "execute_result"
    }
   ],
   "source": [
    "df.dtypes"
   ]
  },
  {
   "cell_type": "code",
   "execution_count": 4,
   "metadata": {},
   "outputs": [],
   "source": [
    "df['text'] = df['text'].astype(str)"
   ]
  },
  {
   "cell_type": "markdown",
   "metadata": {},
   "source": [
    "# 2. Basic Explore"
   ]
  },
  {
   "cell_type": "code",
   "execution_count": 5,
   "metadata": {},
   "outputs": [
    {
     "data": {
      "text/plain": [
       "7613"
      ]
     },
     "execution_count": 5,
     "metadata": {},
     "output_type": "execute_result"
    }
   ],
   "source": [
    "len(df)"
   ]
  },
  {
   "cell_type": "markdown",
   "metadata": {},
   "source": [
    "### 2.1 check duplicates"
   ]
  },
  {
   "cell_type": "code",
   "execution_count": 6,
   "metadata": {},
   "outputs": [
    {
     "name": "stdout",
     "output_type": "stream",
     "text": [
      "68\n"
     ]
    }
   ],
   "source": [
    "dups = pd.DataFrame((df['text'].value_counts()[df['text'].value_counts()>1]))\n",
    "print(len(dups)-1)"
   ]
  },
  {
   "cell_type": "markdown",
   "metadata": {},
   "source": [
    "There are some duplicates. We need to remove duplicates with same target"
   ]
  },
  {
   "cell_type": "code",
   "execution_count": 7,
   "metadata": {},
   "outputs": [
    {
     "name": "stdout",
     "output_type": "stream",
     "text": [
      "7485\n"
     ]
    }
   ],
   "source": [
    "df = df.drop_duplicates(subset = ['text', 'target'])\n",
    "df = df.drop_duplicates(subset = ['text'],keep = False)\n",
    "print(len(df))"
   ]
  },
  {
   "cell_type": "markdown",
   "metadata": {},
   "source": [
    "### 2.2 check nulls"
   ]
  },
  {
   "cell_type": "code",
   "execution_count": 8,
   "metadata": {},
   "outputs": [
    {
     "data": {
      "text/plain": [
       "0"
      ]
     },
     "execution_count": 8,
     "metadata": {},
     "output_type": "execute_result"
    }
   ],
   "source": [
    "len(df[df['text'].isnull()])"
   ]
  },
  {
   "cell_type": "markdown",
   "metadata": {},
   "source": [
    "### 2.3 check distribution"
   ]
  },
  {
   "cell_type": "code",
   "execution_count": 9,
   "metadata": {},
   "outputs": [
    {
     "data": {
      "text/plain": [
       "<Figure size 640x480 with 1 Axes>"
      ]
     },
     "metadata": {},
     "output_type": "display_data"
    }
   ],
   "source": [
    "import matplotlib.pyplot as plt\n",
    "import seaborn as sns\n",
    "\n",
    "sns.set_style(\"white\")\n",
    "ax = sns.countplot(y = df['target'], palette = \"OrRd_r\")\n",
    "ax.set_title('if the data is balanced?')\n",
    "ax.set_ylabel('Target')\n",
    "ax.set_xlabel('Number of Observations')\n",
    "sns.despine(left = True)\n",
    "plt.show()"
   ]
  },
  {
   "cell_type": "markdown",
   "metadata": {},
   "source": [
    "The data is balanced"
   ]
  },
  {
   "cell_type": "markdown",
   "metadata": {},
   "source": [
    "# 3. preprocessing"
   ]
  },
  {
   "cell_type": "markdown",
   "metadata": {},
   "source": [
    "### 3.1 clean texts"
   ]
  },
  {
   "cell_type": "code",
   "execution_count": 10,
   "metadata": {},
   "outputs": [],
   "source": [
    "import re\n",
    "\n",
    "def clean_string(in_str):\n",
    "    \n",
    "    in_str = str(in_str)\n",
    "    \n",
    "    # URL\n",
    "    \n",
    "    #url_regex = '((https?\\://(?!www\\.))|((https?\\://)?www\\.))?' + \\\n",
    "    #            '([a-zA-Z0-9]{2,}\\.)+(com|org|net)' + \\\n",
    "    #           '((/[a-zA-Z0-9%#_+?&-]+)+((?<!/)\\.[a-zA-Z0-9]{2,})?)?'\n",
    "    #url_regex =  'https?:\\/\\/(www\\.)?[-a-zA-Z0-9@:%._\\+~#=]{1,256}\\.[a-zA-Z0-9()]{1,6}\\b([-a-zA-Z0-9()@:%_\\+.~#?&//=]*)'\n",
    "    \n",
    "    url_regex = '(https?://\\S+)'\n",
    "    url_regex_comp = re.compile(url_regex)\n",
    "\n",
    "    in_str = url_regex_comp.sub('<URL>', in_str)\n",
    "    \n",
    "    # emails\n",
    "\n",
    "    email_reg_chars = 'a-zA-Z0-9!#$%&\\'*+-=/?^`_~|\\{\\}'\n",
    "    email_local_regex = '([' + email_reg_chars + ']+((\\.[' + email_reg_chars + '])+)?)'\n",
    "    email_regex = email_local_regex + ' ?@ ?' + '[a-zA-Z0-9]{2,}((?=\\.[a-z]+)\\.[a-zA-Z0-9\\-]+)*((:[0-9]{2,4})|' + \\\n",
    "                  '( ?(\\.|dot) ?[A-Za-z]{2,18}))'\n",
    "    email_regex_comp = re.compile(email_regex)\n",
    "    in_str = email_regex_comp.sub('<EMAIL ADDRESS>', in_str)\n",
    "    \n",
    "    # Other special characters and numbers\n",
    "    in_str = re.sub('[^A-Za-z0-9]+', ' ', in_str)\n",
    "\n",
    "    # lower cases\n",
    "    in_str = in_str.strip().lower()\n",
    "        \n",
    "    # stopwords\n",
    "        #in_list = [w for w in in_list if w not in stops]\n",
    "    \n",
    "    # remove white space\n",
    "    out_str = re.sub(\"\\s\\s+\", \" \", in_str)\n",
    "    \n",
    "    return out_str\n",
    "    "
   ]
  },
  {
   "cell_type": "code",
   "execution_count": 11,
   "metadata": {},
   "outputs": [
    {
     "name": "stdout",
     "output_type": "stream",
     "text": [
      "Wall time: 575 ms\n"
     ]
    }
   ],
   "source": [
    "% time df['clean_text'] = df['text'].apply(clean_string)"
   ]
  },
  {
   "cell_type": "code",
   "execution_count": 12,
   "metadata": {},
   "outputs": [
    {
     "data": {
      "text/html": [
       "<div>\n",
       "<style scoped>\n",
       "    .dataframe tbody tr th:only-of-type {\n",
       "        vertical-align: middle;\n",
       "    }\n",
       "\n",
       "    .dataframe tbody tr th {\n",
       "        vertical-align: top;\n",
       "    }\n",
       "\n",
       "    .dataframe thead th {\n",
       "        text-align: right;\n",
       "    }\n",
       "</style>\n",
       "<table border=\"1\" class=\"dataframe\">\n",
       "  <thead>\n",
       "    <tr style=\"text-align: right;\">\n",
       "      <th></th>\n",
       "      <th>id</th>\n",
       "      <th>keyword</th>\n",
       "      <th>location</th>\n",
       "      <th>text</th>\n",
       "      <th>target</th>\n",
       "      <th>clean_text</th>\n",
       "    </tr>\n",
       "  </thead>\n",
       "  <tbody>\n",
       "  </tbody>\n",
       "</table>\n",
       "</div>"
      ],
      "text/plain": [
       "Empty DataFrame\n",
       "Columns: [id, keyword, location, text, target, clean_text]\n",
       "Index: []"
      ]
     },
     "execution_count": 12,
     "metadata": {},
     "output_type": "execute_result"
    }
   ],
   "source": [
    "df[(df['clean_text'].apply(lambda x:x.isspace())) | (df['clean_text'] == '')]"
   ]
  },
  {
   "cell_type": "markdown",
   "metadata": {},
   "source": [
    "There is no null text after the cleaning"
   ]
  },
  {
   "cell_type": "markdown",
   "metadata": {},
   "source": [
    "### 3.2 text length"
   ]
  },
  {
   "cell_type": "code",
   "execution_count": 13,
   "metadata": {},
   "outputs": [
    {
     "data": {
      "text/plain": [
       "count    7485.000000\n",
       "mean       15.160855\n",
       "std         5.962249\n",
       "min         1.000000\n",
       "25%        11.000000\n",
       "50%        15.000000\n",
       "75%        19.000000\n",
       "max        34.000000\n",
       "Name: num_clean_tokens, dtype: float64"
      ]
     },
     "execution_count": 13,
     "metadata": {},
     "output_type": "execute_result"
    }
   ],
   "source": [
    "df['num_clean_tokens'] = df['clean_text'].apply(lambda x:len(x.split()))\n",
    "df['num_clean_tokens'].describe()"
   ]
  },
  {
   "cell_type": "code",
   "execution_count": 16,
   "metadata": {},
   "outputs": [
    {
     "name": "stderr",
     "output_type": "stream",
     "text": [
      "C:\\Users\\31221\\Anaconda3\\lib\\site-packages\\matplotlib\\axes\\_axes.py:6462: UserWarning: The 'normed' kwarg is deprecated, and has been replaced by the 'density' kwarg.\n",
      "  warnings.warn(\"The 'normed' kwarg is deprecated, and has been \"\n"
     ]
    },
    {
     "data": {
      "image/png": "[encoded data removed]",
      "text/plain": [
       "<Figure size 432x288 with 1 Axes>"
      ]
     },
     "metadata": {},
     "output_type": "display_data"
    }
   ],
   "source": [
    "sns.set_style(\"white\")\n",
    "ax = sns.distplot(df['num_clean_tokens'], kde = False, color = \"darkred\")\n",
    "ax.set_title('what\\'s the length of these texts?')\n",
    "ax.set_ylabel('number of texts')\n",
    "ax.set_xlabel('text length')\n",
    "sns.despine(left = True)\n",
    "plt.show()"
   ]
  },
  {
   "cell_type": "code",
   "execution_count": 17,
   "metadata": {},
   "outputs": [
    {
     "data": {
      "image/png": "[encoded data removed]",
      "text/plain": [
       "<Figure size 432x288 with 1 Axes>"
      ]
     },
     "metadata": {},
     "output_type": "display_data"
    }
   ],
   "source": [
    "sns.set_style(\"white\")\n",
    "ax = sns.boxplot(df['num_clean_tokens'], color = \"darkorange\")\n",
    "ax.set_title('what\\'s the length of these texts?')\n",
    "ax.set_xlabel('text length')\n",
    "sns.despine(left = True)\n",
    "plt.show()"
   ]
  },
  {
   "cell_type": "markdown",
   "metadata": {},
   "source": [
    "### 3.3 Check n-grams"
   ]
  },
  {
   "cell_type": "code",
   "execution_count": 18,
   "metadata": {},
   "outputs": [],
   "source": [
    "from nltk import ngrams\n",
    "from collections import Counter\n",
    "def top_ngrams(text_list,num):\n",
    "    ngram_list = []\n",
    "    for text in text_list:\n",
    "        text = text.split()\n",
    "        grams_tok = ngrams(text,num)\n",
    "        for grams in grams_tok:\n",
    "            ind_grams = ' '.join(grams)\n",
    "            ngram_list.append(ind_grams)\n",
    "    hot_keywords = Counter(ngram_list).most_common()\n",
    "    gram_word_arr = []\n",
    "    frequency_arr = []\n",
    "    for (key,val) in hot_keywords:\n",
    "        gram_word_arr.append(key)\n",
    "        frequency_arr.append(val)\n",
    "    ngram_df = pd.DataFrame({'N-gram':gram_word_arr, 'Frequency':frequency_arr}, columns = ['N-gram','Frequency'])\n",
    "    \n",
    "    return ngram_df"
   ]
  },
  {
   "cell_type": "code",
   "execution_count": 19,
   "metadata": {},
   "outputs": [
    {
     "name": "stdout",
     "output_type": "stream",
     "text": [
      "Wall time: 276 ms\n"
     ]
    }
   ],
   "source": [
    "%time trigram = top_ngrams(df['clean_text'],3)"
   ]
  },
  {
   "cell_type": "code",
   "execution_count": 20,
   "metadata": {},
   "outputs": [
    {
     "data": {
      "image/png": "[encoded data removed]",
      "text/plain": [
       "<Figure size 432x288 with 1 Axes>"
      ]
     },
     "metadata": {},
     "output_type": "display_data"
    }
   ],
   "source": [
    "trigram_sub = trigram.head(15)\n",
    "\n",
    "sns.set_style(\"white\")\n",
    "ax = sns.barplot(y = trigram_sub['N-gram'], x = trigram_sub['Frequency'], palette = \"OrRd_r\")\n",
    "ax.set_title('Top 15 N-grams')\n",
    "ax.set_ylabel('Trigram')\n",
    "ax.set_xlabel('Frequency')\n",
    "sns.despine(left = True)\n",
    "plt.show()"
   ]
  },
  {
   "cell_type": "markdown",
   "metadata": {},
   "source": [
    "### 3.4 Check n-grams: Remove stopwords/ lemmatize text "
   ]
  },
  {
   "cell_type": "code",
   "execution_count": 21,
   "metadata": {},
   "outputs": [],
   "source": [
    "from nltk.stem import WordNetLemmatizer\n",
    "from nltk.corpus import stopwords\n",
    "wordnet_lemmatizer= WordNetLemmatizer()\n",
    "stop = stopwords.words('english')\n",
    "df['clean_text_stops'] = df['clean_text'].apply(lambda x:' '.join([word for word in x.split() if word not in (stop)]))\n",
    "df['clean_text_stops_lemma'] = df['clean_text_stops'].apply(lambda x:' '.join([wordnet_lemmatizer.lemmatize(word) for word in x.split()]))\n"
   ]
  },
  {
   "cell_type": "code",
   "execution_count": 22,
   "metadata": {},
   "outputs": [
    {
     "name": "stdout",
     "output_type": "stream",
     "text": [
      "Wall time: 249 ms\n"
     ]
    },
    {
     "data": {
      "image/png": "[encoded data removed]",
      "text/plain": [
       "<Figure size 432x288 with 1 Axes>"
      ]
     },
     "metadata": {},
     "output_type": "display_data"
    }
   ],
   "source": [
    "%time trigram = top_ngrams(df['clean_text_stops_lemma'],3)\n",
    "trigram_sub = trigram.head(15)\n",
    "\n",
    "sns.set_style(\"white\")\n",
    "ax = sns.barplot(y = trigram_sub['N-gram'], x = trigram_sub['Frequency'], palette = \"OrRd_r\")\n",
    "ax.set_title('Top 15 N-grams')\n",
    "ax.set_ylabel('Trigram')\n",
    "ax.set_xlabel('Frequency')\n",
    "sns.despine(left = True)\n",
    "plt.show()"
   ]
  },
  {
   "cell_type": "markdown",
   "metadata": {},
   "source": [
    "# 4. Vectorization"
   ]
  },
  {
   "cell_type": "code",
   "execution_count": 23,
   "metadata": {},
   "outputs": [],
   "source": [
    "from sklearn.model_selection import train_test_split\n",
    "train, test = train_test_split(df, test_size = 0.3, random_state = 2020, stratify = df.target.values)"
   ]
  },
  {
   "cell_type": "markdown",
   "metadata": {},
   "source": [
    "### 4.1 TF-IDF"
   ]
  },
  {
   "cell_type": "code",
   "execution_count": 24,
   "metadata": {},
   "outputs": [],
   "source": [
    "from sklearn.feature_extraction.text import TfidfVectorizer\n",
    "tfidf_vectorizer = TfidfVectorizer(ngram_range = (1,2), max_df = 0.8, min_df = 2)\n",
    "tfidf_train = tfidf_vectorizer.fit_transform(train['clean_text_stops_lemma'])\n",
    "tfidf_test = tfidf_vectorizer.transform(test['clean_text_stops_lemma'])\n",
    "target_train = train['target']\n",
    "target_test = test['target']"
   ]
  },
  {
   "cell_type": "code",
   "execution_count": 25,
   "metadata": {},
   "outputs": [
    {
     "data": {
      "text/plain": [
       "(5239, 8329)"
      ]
     },
     "execution_count": 25,
     "metadata": {},
     "output_type": "execute_result"
    }
   ],
   "source": [
    "tfidf_train.shape"
   ]
  },
  {
   "cell_type": "code",
   "execution_count": 26,
   "metadata": {},
   "outputs": [
    {
     "data": {
      "text/plain": [
       "'forest fire near la ronge sask canada'"
      ]
     },
     "execution_count": 26,
     "metadata": {},
     "output_type": "execute_result"
    }
   ],
   "source": [
    "train['clean_text_stops_lemma'][1]"
   ]
  },
  {
   "cell_type": "markdown",
   "metadata": {},
   "source": [
    "### 4.2 Word2Vec - trained from given data"
   ]
  },
  {
   "cell_type": "code",
   "execution_count": 27,
   "metadata": {},
   "outputs": [],
   "source": [
    "import gensim\n",
    "from gensim.models import Word2Vec\n",
    "wv_model = Word2Vec(train['clean_text'].apply(lambda x:x.split()), min_count = 2, size = 200, window = 5, sg = 1, iter = 5)\n",
    "wv_model.save(\"word2vec.model\")"
   ]
  },
  {
   "cell_type": "code",
   "execution_count": 28,
   "metadata": {},
   "outputs": [
    {
     "data": {
      "text/plain": [
       "[('truck', 0.9945228099822998),\n",
       " ('world', 0.9942434430122375),\n",
       " ('story', 0.9937585592269897),\n",
       " ('accident', 0.9937041997909546),\n",
       " ('year', 0.993523359298706),\n",
       " ('alarm', 0.9934950470924377),\n",
       " ('history', 0.9934936761856079),\n",
       " ('wild', 0.9934236407279968),\n",
       " ('report', 0.9933422803878784),\n",
       " ('market', 0.9933284521102905)]"
      ]
     },
     "execution_count": 28,
     "metadata": {},
     "output_type": "execute_result"
    }
   ],
   "source": [
    "wv_model.most_similar('fire')"
   ]
  },
  {
   "cell_type": "code",
   "execution_count": 29,
   "metadata": {},
   "outputs": [
    {
     "data": {
      "text/plain": [
       "(5226, 200)"
      ]
     },
     "execution_count": 29,
     "metadata": {},
     "output_type": "execute_result"
    }
   ],
   "source": [
    "wv_model.wv.syn0.shape"
   ]
  },
  {
   "cell_type": "markdown",
   "metadata": {},
   "source": [
    "### 4.3 Word2Vec - pre trained by Google"
   ]
  },
  {
   "cell_type": "code",
   "execution_count": 46,
   "metadata": {},
   "outputs": [],
   "source": [
    "### https://github.com/FredericGodin/TwitterEmbeddings\n",
    "### https://drive.google.com/file/d/0B7XkCwpI5KDYNlNUTTlSS21pQmM/edit\n",
    "\n",
    "from gensim.models import KeyedVectors\n",
    "pre_trained_wv_model = KeyedVectors.load_word2vec_format('GoogleNews-vectors-negative300.bin', binary=True, limit = 50000)  "
   ]
  },
  {
   "cell_type": "code",
   "execution_count": 47,
   "metadata": {},
   "outputs": [
    {
     "data": {
      "text/plain": [
       "[('blaze', 0.7516718506813049),\n",
       " ('fires', 0.7222490310668945),\n",
       " ('Fire', 0.69910728931427),\n",
       " ('flames', 0.6387674808502197),\n",
       " ('inferno', 0.6056278347969055),\n",
       " ('firefighters', 0.6039329767227173),\n",
       " ('blazes', 0.5724145174026489),\n",
       " ('wildfire', 0.5685724020004272),\n",
       " ('arson', 0.5321768522262573),\n",
       " ('firefighting', 0.5299635529518127)]"
      ]
     },
     "execution_count": 47,
     "metadata": {},
     "output_type": "execute_result"
    }
   ],
   "source": [
    "pre_trained_wv_model.most_similar('fire')"
   ]
  },
  {
   "cell_type": "markdown",
   "metadata": {},
   "source": [
    "# 5. Model Training"
   ]
  },
  {
   "cell_type": "markdown",
   "metadata": {},
   "source": [
    "### 5.1 TFIDF + Logistic Regression"
   ]
  },
  {
   "cell_type": "code",
   "execution_count": 30,
   "metadata": {},
   "outputs": [
    {
     "name": "stdout",
     "output_type": "stream",
     "text": [
      "Accuracy Score: 0.8014247551202137\n",
      "AUC: 0.8600609773398089\n",
      "[[1167  122]\n",
      " [ 324  633]]\n",
      "             precision    recall  f1-score   support\n",
      "\n",
      "          0       0.78      0.91      0.84      1289\n",
      "          1       0.84      0.66      0.74       957\n",
      "\n",
      "avg / total       0.81      0.80      0.80      2246\n",
      "\n"
     ]
    },
    {
     "data": {
      "image/png": "[encoded data removed]",
      "text/plain": [
       "<Figure size 432x288 with 1 Axes>"
      ]
     },
     "metadata": {},
     "output_type": "display_data"
    }
   ],
   "source": [
    "from sklearn.linear_model import LogisticRegression \n",
    "from sklearn.metrics import accuracy_score, precision_score, recall_score, f1_score\n",
    "from sklearn.metrics import classification_report, confusion_matrix, roc_auc_score, roc_curve\n",
    "\n",
    "#from sklearn.model_selection import GridSearchCV, PredefinedSplit\n",
    "classifier = LogisticRegression()\n",
    "logit_model = classifier.fit(tfidf_train,target_train)\n",
    "logit_prediction = logit_model.predict(tfidf_test)\n",
    "logit_prediction_proba = logit_model.predict_proba(tfidf_test)[:,1]\n",
    "score = accuracy_score(target_test, logit_prediction)\n",
    "print(\"Accuracy Score:\", score)\n",
    "logit_roc_auc = roc_auc_score(target_test,logit_prediction_proba)\n",
    "print(\"AUC:\",logit_roc_auc)\n",
    "confusion_matrix = confusion_matrix(target_test, logit_prediction)\n",
    "print(confusion_matrix)\n",
    "print(classification_report(target_test, logit_prediction))\n",
    "\n",
    "# Roc curve\n",
    "fpr,  tpr, thresholds = roc_curve(target_test, logit_prediction_proba)\n",
    "plt.figure()\n",
    "plt.plot(fpr,tpr,label ='Logistic Regression (area = %0.2f)' % logit_roc_auc)\n",
    "plt.plot([0,1],[0,1],'r--')\n",
    "plt.xlim([0,1])\n",
    "plt.ylim([0,1.05])\n",
    "plt.xlabel(\"False Positive Rate\")\n",
    "plt.ylabel(\"True Positive Rate\")\n",
    "plt.title(\"ROC Curve\")\n",
    "plt.legend(loc = 'lower right')\n",
    "plt.show()\n",
    "\n"
   ]
  },
  {
   "cell_type": "markdown",
   "metadata": {},
   "source": [
    "### 5.2 TFIDF + LinearSVM"
   ]
  },
  {
   "cell_type": "code",
   "execution_count": 31,
   "metadata": {},
   "outputs": [
    {
     "name": "stdout",
     "output_type": "stream",
     "text": [
      "[0 1 1 ... 1 0 1]\n",
      "Accuracy Score: 0.7782724844167409\n",
      "             precision    recall  f1-score   support\n",
      "\n",
      "          0       0.79      0.84      0.81      1289\n",
      "          1       0.76      0.70      0.73       957\n",
      "\n",
      "avg / total       0.78      0.78      0.78      2246\n",
      "\n"
     ]
    }
   ],
   "source": [
    "from sklearn.svm import LinearSVC \n",
    "\n",
    "#from sklearn.model_selection import GridSearchCV, PredefinedSplit\n",
    "classifier = LinearSVC()\n",
    "svm_model = classifier.fit(tfidf_train,target_train)\n",
    "svm_prediction = svm_model.predict(tfidf_test)\n",
    "print(svm_prediction)\n",
    "#svm_prediction_proba = svm_model.predict_proba(tfidf_test)[:,1]\n",
    "score = accuracy_score(target_test, svm_prediction)\n",
    "print(\"Accuracy Score:\", score)\n",
    "#confusion_matrix = confusion_matrix(target_test, svm_prediction)\n",
    "#print(confusion_matrix)\n",
    "print(classification_report(target_test, svm_prediction))\n"
   ]
  },
  {
   "cell_type": "markdown",
   "metadata": {},
   "source": [
    "### 5.3 word2vec + LSTM"
   ]
  },
  {
   "cell_type": "code",
   "execution_count": 33,
   "metadata": {},
   "outputs": [],
   "source": [
    "seq_length = 35\n",
    "wv_weights = wv_model.wv.vectors\n",
    "vocab_size, embedding_size = wv_model.wv.vectors.shape"
   ]
  },
  {
   "cell_type": "code",
   "execution_count": 34,
   "metadata": {},
   "outputs": [
    {
     "name": "stderr",
     "output_type": "stream",
     "text": [
      "Using TensorFlow backend.\n"
     ]
    }
   ],
   "source": [
    "from keras.models import Sequential\n",
    "from keras.layers import *\n",
    "from keras.preprocessing.sequence import pad_sequences\n",
    "\n",
    "def word2token(word):\n",
    "    try:\n",
    "        return wv_model.wv.vocab[word].index\n",
    "    except KeyError:\n",
    "        return 0\n",
    "\n",
    "w2v_train, w2v_val = train_test_split(train, test_size = 0.25, random_state = 2020, stratify = train.target.values)\n",
    "\n",
    "train_docLabels = w2v_train['id']\n",
    "train_data = pad_sequences(np.array(w2v_train['clean_text'].apply(lambda x:[word2token(w) for w in x.split()[:seq_length] if w!=''])), \n",
    "                          maxlen = seq_length, padding = 'pre', value = 0)\n",
    "train_flag = w2v_train['target']\n",
    "\n",
    "val_docLabels = w2v_val['id']\n",
    "val_data = pad_sequences(np.array(w2v_val['clean_text'].apply(lambda x:[word2token(w) for w in x.split()[:seq_length] if w!=''])),\n",
    "                        maxlen = seq_length, padding = 'pre', value = 0)\n",
    "val_flag = w2v_val['target']\n",
    "\n",
    "test_docLabels = test['id']\n",
    "test_data = pad_sequences(np.array(test['clean_text'].apply(lambda x:[word2token(w) for w in x.split()[:seq_length] if w!=''])),\n",
    "                         maxlen = seq_length, padding = 'pre', value = 0)\n",
    "test_flag = test['target']"
   ]
  },
  {
   "cell_type": "code",
   "execution_count": 35,
   "metadata": {},
   "outputs": [
    {
     "data": {
      "text/plain": [
       "(3929, 35)"
      ]
     },
     "execution_count": 35,
     "metadata": {},
     "output_type": "execute_result"
    }
   ],
   "source": [
    "train_data.shape"
   ]
  },
  {
   "cell_type": "code",
   "execution_count": 36,
   "metadata": {},
   "outputs": [
    {
     "name": "stdout",
     "output_type": "stream",
     "text": [
      "Train on 3929 samples, validate on 1310 samples\n",
      "Epoch 1/5\n",
      "3929/3929 [==============================] - 28s 7ms/step - loss: 0.6051 - acc: 0.6724 - val_loss: 0.5944 - val_acc: 0.6870\n",
      "Epoch 2/5\n",
      "3929/3929 [==============================] - 22s 6ms/step - loss: 0.5813 - acc: 0.6984 - val_loss: 0.5776 - val_acc: 0.7008\n",
      "Epoch 3/5\n",
      "3929/3929 [==============================] - 23s 6ms/step - loss: 0.5860 - acc: 0.6948 - val_loss: 0.6093 - val_acc: 0.6588\n",
      "Epoch 4/5\n",
      "3929/3929 [==============================] - 24s 6ms/step - loss: 0.5833 - acc: 0.6984 - val_loss: 0.5733 - val_acc: 0.7008\n",
      "Epoch 5/5\n",
      "3929/3929 [==============================] - 25s 6ms/step - loss: 0.5745 - acc: 0.6992 - val_loss: 0.5695 - val_acc: 0.7115\n"
     ]
    }
   ],
   "source": [
    "lstm_model = Sequential()\n",
    "lstm_model.add(Embedding(\n",
    "    input_dim = vocab_size,\n",
    "    output_dim = embedding_size,\n",
    "    weights = [wv_weights],\n",
    "    input_length = seq_length,\n",
    "    mask_zero = True,\n",
    "    trainable = False\n",
    "))\n",
    "lstm_model.add(Bidirectional(LSTM(200)))\n",
    "lstm_model.add(Dense(2, activation = 'sigmoid'))\n",
    "lstm_model.compile(optimizer = 'adam', loss= 'sparse_categorical_crossentropy',metrics = ['accuracy'])\n",
    "history = lstm_model.fit(train_data, train_flag, epochs=5, batch_size = 64, validation_data = (val_data, val_flag), verbose = 1)\n",
    "lstm_model.save('w2v_model_v1.h5')"
   ]
  },
  {
   "cell_type": "markdown",
   "metadata": {},
   "source": [
    "Need more data to train "
   ]
  },
  {
   "cell_type": "code",
   "execution_count": 37,
   "metadata": {},
   "outputs": [
    {
     "name": "stdout",
     "output_type": "stream",
     "text": [
      "Accuracy Score: 0.7003561887800535\n",
      "AUC: 0.7610441376391992\n",
      "             precision    recall  f1-score   support\n",
      "\n",
      "          0       0.71      0.81      0.76      1289\n",
      "          1       0.69      0.55      0.61       957\n",
      "\n",
      "avg / total       0.70      0.70      0.69      2246\n",
      "\n"
     ]
    },
    {
     "data": {
      "image/png": "[encoded data removed]",
      "text/plain": [
       "<Figure size 432x288 with 1 Axes>"
      ]
     },
     "metadata": {},
     "output_type": "display_data"
    }
   ],
   "source": [
    "lstm_prediction_proba = lstm_model.predict_proba(test_data)[:,1]\n",
    "lstm_prediction = lstm_model.predict_proba(test_data).argmax(axis=1)\n",
    "score = accuracy_score(target_test, lstm_prediction)\n",
    "print(\"Accuracy Score:\", score)\n",
    "lstm_roc_auc = roc_auc_score(target_test,lstm_prediction_proba)\n",
    "print(\"AUC:\",lstm_roc_auc)\n",
    "#confusion_matrix = confusion_matrix(target_test, lstm_prediction)\n",
    "#print(confusion_matrix)\n",
    "print(classification_report(target_test, lstm_prediction))\n",
    "\n",
    "# Roc curve\n",
    "fpr,  tpr, thresholds = roc_curve(target_test, lstm_prediction_proba)\n",
    "plt.figure()\n",
    "plt.plot(fpr,tpr,label ='LSTM (area = %0.2f)' % lstm_roc_auc)\n",
    "plt.plot([0,1],[0,1],'r--')\n",
    "plt.xlim([0,1])\n",
    "plt.ylim([0,1.05])\n",
    "plt.xlabel(\"False Positive Rate\")\n",
    "plt.ylabel(\"True Positive Rate\")\n",
    "plt.title(\"ROC Curve\")\n",
    "plt.legend(loc = 'lower right')\n",
    "plt.show()\n"
   ]
  },
  {
   "cell_type": "markdown",
   "metadata": {},
   "source": [
    "### 5.4 pre trained Word2Vec + LSTM"
   ]
  },
  {
   "cell_type": "code",
   "execution_count": 48,
   "metadata": {},
   "outputs": [],
   "source": [
    "seq_length = 35\n",
    "wv_weights = pre_trained_wv_model.wv.vectors\n",
    "vocab_size, embedding_size = pre_trained_wv_model.wv.vectors.shape"
   ]
  },
  {
   "cell_type": "code",
   "execution_count": 49,
   "metadata": {},
   "outputs": [],
   "source": [
    "from keras.models import Sequential\n",
    "from keras.layers import *\n",
    "from keras.preprocessing.sequence import pad_sequences\n",
    "\n",
    "def word2token(word):\n",
    "    try:\n",
    "        return pre_trained_wv_model.wv.vocab[word].index\n",
    "    except KeyError:\n",
    "        return 0\n",
    "\n",
    "w2v_train, w2v_val = train_test_split(train, test_size = 0.25, random_state = 2020, stratify = train.target.values)\n",
    "\n",
    "train_docLabels = w2v_train['id']\n",
    "train_data = pad_sequences(np.array(w2v_train['clean_text'].apply(lambda x:[word2token(w) for w in x.split()[:seq_length] if w!=''])), \n",
    "                          maxlen = seq_length, padding = 'pre', value = 0)\n",
    "train_flag = w2v_train['target']\n",
    "\n",
    "val_docLabels = w2v_val['id']\n",
    "val_data = pad_sequences(np.array(w2v_val['clean_text'].apply(lambda x:[word2token(w) for w in x.split()[:seq_length] if w!=''])),\n",
    "                        maxlen = seq_length, padding = 'pre', value = 0)\n",
    "val_flag = w2v_val['target']\n",
    "\n",
    "test_docLabels = test['id']\n",
    "test_data = pad_sequences(np.array(test['clean_text'].apply(lambda x:[word2token(w) for w in x.split()[:seq_length] if w!=''])),\n",
    "                         maxlen = seq_length, padding = 'pre', value = 0)\n",
    "test_flag = test['target']"
   ]
  },
  {
   "cell_type": "code",
   "execution_count": 51,
   "metadata": {},
   "outputs": [
    {
     "name": "stdout",
     "output_type": "stream",
     "text": [
      "Train on 3929 samples, validate on 1310 samples\n",
      "Epoch 1/3\n",
      "3929/3929 [==============================] - 32s 8ms/step - loss: 0.4990 - acc: 0.7684 - val_loss: 0.4507 - val_acc: 0.8038\n",
      "Epoch 2/3\n",
      "3929/3929 [==============================] - 29s 7ms/step - loss: 0.4272 - acc: 0.8173 - val_loss: 0.4434 - val_acc: 0.8061\n",
      "Epoch 3/3\n",
      "3929/3929 [==============================] - 29s 8ms/step - loss: 0.3937 - acc: 0.8297 - val_loss: 0.4445 - val_acc: 0.8145\n"
     ]
    }
   ],
   "source": [
    "lstm_model = Sequential()\n",
    "lstm_model.add(Embedding(\n",
    "    input_dim = vocab_size,\n",
    "    output_dim = embedding_size,\n",
    "    weights = [wv_weights],\n",
    "    input_length = seq_length,\n",
    "    mask_zero = True,\n",
    "    trainable = False\n",
    "))\n",
    "lstm_model.add(Bidirectional(LSTM(200)))\n",
    "lstm_model.add(Dense(2, activation = 'sigmoid'))\n",
    "lstm_model.compile(optimizer = 'adam', loss= 'sparse_categorical_crossentropy',metrics = ['accuracy'])\n",
    "history = lstm_model.fit(train_data, train_flag, epochs=3, batch_size = 64, validation_data = (val_data, val_flag), verbose = 1)"
   ]
  },
  {
   "cell_type": "code",
   "execution_count": 52,
   "metadata": {},
   "outputs": [
    {
     "name": "stdout",
     "output_type": "stream",
     "text": [
      "Accuracy Score: 0.7978628673196795\n",
      "AUC: 0.861810772447192\n",
      "             precision    recall  f1-score   support\n",
      "\n",
      "          0       0.80      0.87      0.83      1289\n",
      "          1       0.80      0.70      0.75       957\n",
      "\n",
      "avg / total       0.80      0.80      0.80      2246\n",
      "\n"
     ]
    },
    {
     "data": {
      "image/png": "[encoded data removed]",
      "text/plain": [
       "<Figure size 432x288 with 1 Axes>"
      ]
     },
     "metadata": {},
     "output_type": "display_data"
    }
   ],
   "source": [
    "lstm_prediction_proba = lstm_model.predict_proba(test_data)[:,1]\n",
    "lstm_prediction = lstm_model.predict_proba(test_data).argmax(axis=1)\n",
    "score = accuracy_score(target_test, lstm_prediction)\n",
    "print(\"Accuracy Score:\", score)\n",
    "lstm_roc_auc = roc_auc_score(target_test,lstm_prediction_proba)\n",
    "print(\"AUC:\",lstm_roc_auc)\n",
    "#confusion_matrix = confusion_matrix(target_test, lstm_prediction)\n",
    "#print(confusion_matrix)\n",
    "print(classification_report(target_test, lstm_prediction))\n",
    "\n",
    "# Roc curve\n",
    "fpr,  tpr, thresholds = roc_curve(target_test, lstm_prediction_proba)\n",
    "plt.figure()\n",
    "plt.plot(fpr,tpr,label ='LSTM (area = %0.2f)' % lstm_roc_auc)\n",
    "plt.plot([0,1],[0,1],'r--')\n",
    "plt.xlim([0,1])\n",
    "plt.ylim([0,1.05])\n",
    "plt.xlabel(\"False Positive Rate\")\n",
    "plt.ylabel(\"True Positive Rate\")\n",
    "plt.title(\"ROC Curve\")\n",
    "plt.legend(loc = 'lower right')\n",
    "plt.show()"
   ]
  },
  {
   "cell_type": "markdown",
   "metadata": {},
   "source": [
    "This result looks better. need more time spent on cleaning steps"
   ]
  },
  {
   "cell_type": "markdown",
   "metadata": {},
   "source": [
    "### 5.5 pre trained BERT"
   ]
  },
  {
   "cell_type": "markdown",
   "metadata": {},
   "source": []
  }
 ],
 "metadata": {
  "kernelspec": {
   "display_name": "Python 3",
   "language": "python",
   "name": "python3"
  },
  "language_info": {
   "codemirror_mode": {
    "name": "ipython",
    "version": 3
   },
   "file_extension": ".py",
   "mimetype": "text/x-python",
   "name": "python",
   "nbconvert_exporter": "python",
   "pygments_lexer": "ipython3",
   "version": "3.6.5"
  }
 },
 "nbformat": 4,
 "nbformat_minor": 2
}
